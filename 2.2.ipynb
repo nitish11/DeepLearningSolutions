{
 "cells": [
  {
   "cell_type": "markdown",
   "metadata": {},
   "source": [
    "### Section :2 - Implementing New architectures :"
   ]
  },
  {
   "cell_type": "markdown",
   "metadata": {},
   "source": [
    "Q-2.2 – Please refer to the “RefineNet: Multi-Path Refinement Networks with Identity Mappings for High-Resolution Semantic Segmentation” architecture (paper, Matlab code). Please create your own implementation of this architecture using a framework of your choice (other that the given Matlab code). Please use any benchmark segmentation datasets (like Pascal VOC 2012) for train/test \n"
   ]
  },
  {
   "cell_type": "code",
   "execution_count": null,
   "metadata": {
    "collapsed": true
   },
   "outputs": [],
   "source": []
  }
 ],
 "metadata": {
  "kernelspec": {
   "display_name": "Python 2",
   "language": "python",
   "name": "python2"
  },
  "language_info": {
   "codemirror_mode": {
    "name": "ipython",
    "version": 2
   },
   "file_extension": ".py",
   "mimetype": "text/x-python",
   "name": "python",
   "nbconvert_exporter": "python",
   "pygments_lexer": "ipython2",
   "version": "2.7.6"
  }
 },
 "nbformat": 4,
 "nbformat_minor": 2
}
