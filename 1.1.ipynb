{
 "cells": [
  {
   "cell_type": "markdown",
   "metadata": {},
   "source": [
    "### Section :1 - Adapting Architectures for resolution change:\n",
    "\n",
    "Q-1.1 – Please refer to the “Aggregated Residual Transformations for Deep Neural Networks” (ResNeXt) architecture (paper, code). The task is to adapt this architecture to work with 64x64 images for training and prediction. Please use the down-sampled ImageNet(link) as the train/test dataset. You can either directly adapt the Lua reference implementation from FAIR or re-implement it in your preferred framework. \n",
    " "
   ]
  },
  {
   "cell_type": "markdown",
   "metadata": {
    "collapsed": true
   },
   "source": [
    "Paper Link : https://arxiv.org/pdf/1611.05431.pdf\n",
    "\n",
    "Dataset Link : http://image-net.org/small/download.php\n",
    "\n",
    "Git Link : https://github.com/facebookresearch/ResNeXt"
   ]
  },
  {
   "cell_type": "markdown",
   "metadata": {},
   "source": [
    "### Objective : \n",
    "\n",
    "To adapt this architecture to work with 64x64 images for training and prediction\n",
    "\n",
    "### Experiment : \n",
    "\n",
    "There are two ways to solve this problem :\n",
    "\n",
    "* Resize the images in the dataset to (224 * 224) dimensions and then use the same model.\n",
    "* We need to modify the image default size defined in the model in the below link.\n",
    "https://github.com/facebookresearch/ResNeXt/blob/833a3849c982c1d562b6e552c0a6f305c420ebde/models/init.lua#L44\n",
    "\n",
    "\n",
    "\n",
    "### Experiments tried : \n",
    "\n",
    "I setup the model and ran it on the defined parameters.\n",
    "\n",
    "* th main.lua -dataset cifar10 -bottleneckType resnext_C -depth 29 -baseWidth 64 -cardinality 16 -weightDecay 5e-4 -batchSize 32 -nGPU 2 -LR 0.025 -nThreads 8 -shareGradInput true\n",
    "\n",
    "\n",
    "I changed the image size, defined in the model and ran the model again with the updated arguements.\n",
    "\n",
    "* th main.lua -dataset cifar10 -bottleneckType resnext_C -depth 29 -baseWidth 64 -cardinality 16 -weightDecay 5e-4 -batchSize 32 -nGPU 2 -LR 0.025 -nThreads 8 -shareGradInput true\n"
   ]
  },
  {
   "cell_type": "markdown",
   "metadata": {},
   "source": [
    "<pre>\n",
    "./datasets/\n",
    "|-- cifar100-gen.lua\n",
    "|-- cifar100.lua\n",
    "|-- cifar10-gen.lua\n",
    "|-- cifar10.lua\n",
    "|-- imagenet\n",
    "|   |-- train\n",
    "|   `-- val\n",
    "|-- imagenet-gen.lua\n",
    "|-- imagenet.lua\n",
    "|-- init.lua\n",
    "|-- README.md\n",
    "`-- transforms.lua\n",
    "</pre>"
   ]
  },
  {
   "cell_type": "markdown",
   "metadata": {
    "collapsed": true
   },
   "source": [
    "* th main.lua -data datasets/imagenet -dataset imagenet -bottleneckType resnext_C -depth 50 -baseWidth 64 -cardinality 1 -weightDecay 5e-4 -batchSize 32 -nGPU 1 -LR 0.025 -nThreads 8 -shareGradInput true\n",
    "\n"
   ]
  },
  {
   "cell_type": "code",
   "execution_count": null,
   "metadata": {
    "collapsed": false
   },
   "outputs": [],
   "source": [
    "=> Creating model from file: models/resnext.lua\t\n",
    "Deploying ResNeXt bottleneck block form C (group convolution)\t\n",
    " | ResNet-50 ImageNet\t\n",
    "shareGradInput function\t\n",
    "=> Generating list of images\t\n",
    " | finding all validation images\t\n",
    "/home/musigma/torch/install/bin/luajit: ...musigma/nitish/deepnet/ResNeXt/datasets/imagenet-gen.lua:67: class not found: val\n",
    "stack traceback:\n",
    "\t[C]: in function 'assert'\n",
    "\t...musigma/nitish/deepnet/ResNeXt/datasets/imagenet-gen.lua:67: in function 'findImages'\n",
    "\t...musigma/nitish/deepnet/ResNeXt/datasets/imagenet-gen.lua:102: in function 'exec'\n",
    "\t./datasets/init.lua:28: in function 'create'\n",
    "\t./dataloader.lua:24: in function 'create'\n",
    "\tmain.lua:36: in main chunk\n",
    "\t[C]: in function 'dofile'\n",
    "\t...igma/torch/install/lib/luarocks/rocks/trepl/scm-1/bin/th:150: in main chunk\n",
    "\t[C]: at 0x00406670\n"
   ]
  },
  {
   "cell_type": "code",
   "execution_count": null,
   "metadata": {
    "collapsed": true
   },
   "outputs": [],
   "source": []
  }
 ],
 "metadata": {
  "kernelspec": {
   "display_name": "Python 2",
   "language": "python",
   "name": "python2"
  },
  "language_info": {
   "codemirror_mode": {
    "name": "ipython",
    "version": 2
   },
   "file_extension": ".py",
   "mimetype": "text/x-python",
   "name": "python",
   "nbconvert_exporter": "python",
   "pygments_lexer": "ipython2",
   "version": "2.7.6"
  }
 },
 "nbformat": 4,
 "nbformat_minor": 2
}
